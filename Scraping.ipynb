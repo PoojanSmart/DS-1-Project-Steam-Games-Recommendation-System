{
 "cells": [
  {
   "cell_type": "code",
   "execution_count": 1,
   "id": "a9862e9d",
   "metadata": {},
   "outputs": [],
   "source": [
    "import json\n",
    "import requests\n",
    "from bs4 import BeautifulSoup\n",
    "import numpy as np\n",
    "import time\n",
    "import pandas as pd"
   ]
  },
  {
   "cell_type": "code",
   "execution_count": null,
   "id": "7ba2dce4",
   "metadata": {},
   "outputs": [],
   "source": [
    "games_list = []\n",
    "generes = [\"rpg\",\"action\",\"adventure_and_casual\",\"strategy\",\"simulation\",\"sports_and_racing\"]"
   ]
  },
  {
   "cell_type": "code",
   "execution_count": null,
   "id": "fed2ce3a",
   "metadata": {},
   "outputs": [],
   "source": [
    "for genere in generes:\n",
    "    start = 0\n",
    "    print(genere)\n",
    "    while(True):\n",
    "        try:\n",
    "            resp = json.loads(requests.get('https://store.steampowered.com/contenthub/querypaginated/category/TopRated/render/?query=&start='+str(start)+'&count=15&cc=IN&l=english&v=4&tag=&category='+genere).content.decode())\n",
    "            soup = BeautifulSoup(resp[\"results_html\"], 'html.parser')\n",
    "            for a in soup.find_all('a'):\n",
    "                game = {}\n",
    "                game[\"game_link\"] = a.get('href')\n",
    "                data = a.text.strip('\\n').replace(\"\\n\",\"|\").split('|')\n",
    "                game[\"price\"] = data[0]\n",
    "                game[\"title\"] = data[1]\n",
    "                game[\"tags\"] = data[3]\n",
    "                game[\"genere\"] = genere\n",
    "                games_list.append(game)\n",
    "            start += resp[\"pagesize\"]\n",
    "            print(start/resp[\"total_count\"])\n",
    "            if start >= resp[\"total_count\"]:\n",
    "                break\n",
    "        except:\n",
    "            pass"
   ]
  },
  {
   "cell_type": "code",
   "execution_count": null,
   "id": "7bd03b41",
   "metadata": {},
   "outputs": [],
   "source": [
    "pd.DataFrame(games_list).to_csv(\"C:\\\\Users\\\\Administrator\\\\Desktop\\\\AI\\\\Univ.ai\\\\DS-1\\\\Project\\\\games.csv\")"
   ]
  },
  {
   "cell_type": "code",
   "execution_count": null,
   "id": "36ef7a28",
   "metadata": {},
   "outputs": [],
   "source": [
    "gamesdf = pd.DataFrame(games_list).drop_duplicates(subset=['title'])\n",
    "gamesdf[\"game_link\"] = gamesdf[\"game_link\"].apply(lambda x: x.split('?')[0])"
   ]
  },
  {
   "cell_type": "code",
   "execution_count": null,
   "id": "2bb815d3",
   "metadata": {},
   "outputs": [],
   "source": [
    "gamesdf.to_csv(\"C:\\\\Users\\\\Administrator\\\\Desktop\\\\AI\\\\Univ.ai\\\\DS-1\\\\Project\\\\games.csv\")"
   ]
  },
  {
   "cell_type": "code",
   "execution_count": 6,
   "id": "99a035c5",
   "metadata": {},
   "outputs": [],
   "source": [
    "last_page = 350\n",
    "users = []\n",
    "for i in range(1,351):\n",
    "    \n",
    "\n",
    "    resp = requests.get('https://steamcommunity.com/games/steam/members?p='+str(i))\n",
    "    soup = BeautifulSoup(resp.content.decode(), 'html.parser')\n",
    "\n",
    "    for p in soup.find('div', attrs = {\"id\":\"memberList\"}).find_all('p'):\n",
    "        user = {}\n",
    "        user[\"profile_link\"] = p.find('a').get('href')\n",
    "        users.append(user)"
   ]
  },
  {
   "cell_type": "code",
   "execution_count": 7,
   "id": "5cc6fd8a",
   "metadata": {},
   "outputs": [],
   "source": [
    "usersdf = pd.DataFrame(users)"
   ]
  },
  {
   "cell_type": "code",
   "execution_count": 79,
   "id": "2ee4e774",
   "metadata": {},
   "outputs": [],
   "source": [
    "usersdf.to_csv(\"C:\\\\Users\\\\Administrator\\\\Desktop\\\\AI\\\\Univ.ai\\\\DS-1\\\\Project\\\\users.csv\")"
   ]
  }
 ],
 "metadata": {
  "kernelspec": {
   "display_name": "Python 3 (ipykernel)",
   "language": "python",
   "name": "python3"
  },
  "language_info": {
   "codemirror_mode": {
    "name": "ipython",
    "version": 3
   },
   "file_extension": ".py",
   "mimetype": "text/x-python",
   "name": "python",
   "nbconvert_exporter": "python",
   "pygments_lexer": "ipython3",
   "version": "3.9.0"
  }
 },
 "nbformat": 4,
 "nbformat_minor": 5
}
