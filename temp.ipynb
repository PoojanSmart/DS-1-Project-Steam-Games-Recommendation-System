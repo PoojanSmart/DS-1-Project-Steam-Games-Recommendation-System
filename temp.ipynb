{
 "cells": [
  {
   "cell_type": "code",
   "execution_count": 1,
   "id": "f9607f60",
   "metadata": {},
   "outputs": [],
   "source": [
    "import json\n",
    "import requests\n",
    "from bs4 import BeautifulSoup\n",
    "import numpy as np\n",
    "import time\n",
    "import pandas as pd\n",
    "import re\n",
    "import time\n",
    "import pickle\n",
    "from IPython.display import clear_output\n",
    "import urllib\n",
    "from threading import Thread"
   ]
  },
  {
   "cell_type": "code",
   "execution_count": 90,
   "id": "4c6f31ea",
   "metadata": {},
   "outputs": [],
   "source": [
    "ug = pd.read_csv('user_games.csv')\n",
    "g = pd.read_csv('games.csv')"
   ]
  },
  {
   "cell_type": "code",
   "execution_count": 82,
   "id": "a8893801",
   "metadata": {},
   "outputs": [],
   "source": [
    "l2 = list(g['game_link'].apply(lambda x: int(x.split('/')[4])))"
   ]
  },
  {
   "cell_type": "code",
   "execution_count": 83,
   "id": "58eece82",
   "metadata": {},
   "outputs": [],
   "source": [
    "l1 = list(ug['appid'].values)"
   ]
  },
  {
   "cell_type": "code",
   "execution_count": 84,
   "id": "fdd95df5",
   "metadata": {},
   "outputs": [],
   "source": [
    "l1 = list(set(l1))"
   ]
  },
  {
   "cell_type": "code",
   "execution_count": 85,
   "id": "7e06ca05",
   "metadata": {},
   "outputs": [],
   "source": [
    "l2 = list(set(l2))"
   ]
  },
  {
   "cell_type": "code",
   "execution_count": 86,
   "id": "27695ff2",
   "metadata": {},
   "outputs": [
    {
     "data": {
      "text/plain": [
       "11816"
      ]
     },
     "execution_count": 86,
     "metadata": {},
     "output_type": "execute_result"
    }
   ],
   "source": [
    "len(l1)"
   ]
  },
  {
   "cell_type": "code",
   "execution_count": 87,
   "id": "cee6b6ef",
   "metadata": {},
   "outputs": [
    {
     "data": {
      "text/plain": [
       "7178"
      ]
     },
     "execution_count": 87,
     "metadata": {},
     "output_type": "execute_result"
    }
   ],
   "source": [
    "len(l2)"
   ]
  },
  {
   "cell_type": "code",
   "execution_count": 88,
   "id": "ae098e45",
   "metadata": {},
   "outputs": [
    {
     "data": {
      "text/plain": [
       "5129"
      ]
     },
     "execution_count": 88,
     "metadata": {},
     "output_type": "execute_result"
    }
   ],
   "source": [
    "def intersection(lst1, lst2):\n",
    "    lst3 = [value for value in lst1 if value in lst2]\n",
    "    return lst3\n",
    "len(intersection(l2, l1))"
   ]
  },
  {
   "cell_type": "code",
   "execution_count": 91,
   "id": "5f561af8",
   "metadata": {},
   "outputs": [
    {
     "data": {
      "text/plain": [
       "0           https://steamcommunity.com/profiles/7656119839...\n",
       "26                  https://steamcommunity.com/id/Dahottness/\n",
       "52                    https://steamcommunity.com/id/ryndrrr_/\n",
       "78                       https://steamcommunity.com/id/ayeel/\n",
       "104                   https://steamcommunity.com/id/ath3ris_/\n",
       "                                  ...                        \n",
       "27547503              https://steamcommunity.com/id/heads-up/\n",
       "27547529                https://steamcommunity.com/id/DeVeer/\n",
       "27547555    https://steamcommunity.com/profiles/7656119833...\n",
       "27547581    https://steamcommunity.com/profiles/7656119828...\n",
       "27547607               https://steamcommunity.com/id/LordEmp/\n",
       "Name: user, Length: 9150, dtype: object"
      ]
     },
     "execution_count": 91,
     "metadata": {},
     "output_type": "execute_result"
    }
   ],
   "source": [
    "ug['user'].drop_duplicates()"
   ]
  },
  {
   "cell_type": "code",
   "execution_count": 96,
   "id": "fe6b6e5a",
   "metadata": {},
   "outputs": [],
   "source": [
    "ug = pd.read_csv('user_games(allgames)_2.csv')\n",
    "g = pd.read_csv('games.csv')"
   ]
  },
  {
   "cell_type": "code",
   "execution_count": 97,
   "id": "7d8303ea",
   "metadata": {},
   "outputs": [
    {
     "data": {
      "text/plain": [
       "4600"
      ]
     },
     "execution_count": 97,
     "metadata": {},
     "output_type": "execute_result"
    }
   ],
   "source": [
    "ug['user'].nunique()"
   ]
  },
  {
   "cell_type": "code",
   "execution_count": 2,
   "id": "55a36514",
   "metadata": {},
   "outputs": [],
   "source": [
    "one = pd.read_csv('user_games(allgames).csv')"
   ]
  },
  {
   "cell_type": "code",
   "execution_count": 3,
   "id": "5181a2b4",
   "metadata": {},
   "outputs": [],
   "source": [
    "two = pd.read_csv('user_games(allgames)_2.csv')"
   ]
  },
  {
   "cell_type": "code",
   "execution_count": 4,
   "id": "5a39c416",
   "metadata": {},
   "outputs": [],
   "source": [
    "three = pd.read_csv('user_games(allgames)_3.csv')"
   ]
  },
  {
   "cell_type": "code",
   "execution_count": 5,
   "id": "9df95cdf",
   "metadata": {},
   "outputs": [],
   "source": [
    "four = pd.read_csv('user_games(allgames)_4.csv')"
   ]
  },
  {
   "cell_type": "code",
   "execution_count": null,
   "id": "f7cb6d1e",
   "metadata": {},
   "outputs": [],
   "source": [
    "five = pd.DataFrame(ug_list)"
   ]
  },
  {
   "cell_type": "code",
   "execution_count": 13,
   "id": "924dcc24",
   "metadata": {},
   "outputs": [],
   "source": [
    "one['user'] = one['user'].apply(lambda x:x.split('/')[3]+\"/\"+x.split('/')[4])\n",
    "two['user'] = two['user'].apply(lambda x:x.split('/')[3]+\"/\"+x.split('/')[4])\n",
    "three['user'] = three['user'].apply(lambda x:x.split('/')[3]+\"/\"+x.split('/')[4])\n",
    "four['user'] = four['user'].apply(lambda x:x.split('/')[3]+\"/\"+x.split('/')[4])"
   ]
  },
  {
   "cell_type": "code",
   "execution_count": 44,
   "id": "e4a90d37",
   "metadata": {},
   "outputs": [],
   "source": [
    "five['user'] = five['user'].apply(lambda x:x.split('/')[3]+\"/\"+x.split('/')[4])"
   ]
  },
  {
   "cell_type": "code",
   "execution_count": 20,
   "id": "c08fe0e1",
   "metadata": {},
   "outputs": [],
   "source": [
    "one = one.drop_duplicates()\n",
    "two = two.drop_duplicates()\n",
    "three = three.drop_duplicates()\n",
    "four = four.drop_duplicates()"
   ]
  },
  {
   "cell_type": "code",
   "execution_count": 45,
   "id": "802d8f15",
   "metadata": {},
   "outputs": [],
   "source": [
    "five = five.drop_duplicates()"
   ]
  },
  {
   "cell_type": "code",
   "execution_count": 47,
   "id": "7658d94b",
   "metadata": {},
   "outputs": [],
   "source": [
    "final = pd.concat([one,two, three,four,five], axis=0)"
   ]
  },
  {
   "cell_type": "code",
   "execution_count": 48,
   "id": "0acab4a7",
   "metadata": {},
   "outputs": [
    {
     "data": {
      "text/plain": [
       "user             18316\n",
       "appid            47748\n",
       "hours_forever     6686\n",
       "name             47487\n",
       "dtype: int64"
      ]
     },
     "execution_count": 48,
     "metadata": {},
     "output_type": "execute_result"
    }
   ],
   "source": [
    "final.nunique()"
   ]
  },
  {
   "cell_type": "code",
   "execution_count": 26,
   "id": "b782991d",
   "metadata": {},
   "outputs": [
    {
     "data": {
      "text/plain": [
       "user\n",
       "profiles/76561198355621251        6\n",
       "id/nadirxkiller                   8\n",
       "id/ozzywizard                     9\n",
       "id/-_AlohaYT__-                  10\n",
       "profiles/76561199092202209       11\n",
       "                              ...  \n",
       "id/C0ZEN                      10052\n",
       "id/JinxLGamez                 10169\n",
       "id/maleverus                  10610\n",
       "id/Houtworm91                 10787\n",
       "id/thugnificent               12952\n",
       "Name: appid, Length: 2150, dtype: int64"
      ]
     },
     "execution_count": 26,
     "metadata": {},
     "output_type": "execute_result"
    }
   ],
   "source": [
    "one.groupby('user')['appid'].count().sort_values()"
   ]
  },
  {
   "cell_type": "code",
   "execution_count": 36,
   "id": "b22ed4a9",
   "metadata": {},
   "outputs": [],
   "source": [
    "with open('C:\\\\Users\\\\Administrator\\\\Desktop\\\\AI\\\\Univ.ai\\\\DS-1\\\\Project\\\\games_data.pickle', 'rb') as f:\n",
    "    profile_games = pickle.load(f)"
   ]
  },
  {
   "cell_type": "code",
   "execution_count": 38,
   "id": "2ab19bdd",
   "metadata": {},
   "outputs": [],
   "source": [
    "ug_list = []\n",
    "for i in profile_games.keys():\n",
    "    if profile_games[i] != 'NA' and profile_games[i] != 'NILL':\n",
    "        for game in profile_games[i]:\n",
    "            ug = {}\n",
    "            ug[\"user\"] = i\n",
    "            ug[\"appid\"] = game[\"appid\"]\n",
    "            ug['name'] = game['name']\n",
    "            if 'hours_forever' in list(game.keys()):\n",
    "                ug['hours_forever'] = game[\"hours_forever\"]\n",
    "            ug_list.append(ug)"
   ]
  },
  {
   "cell_type": "code",
   "execution_count": 49,
   "id": "4ef3be98",
   "metadata": {},
   "outputs": [],
   "source": [
    "final.to_csv('final_user_games.csv')"
   ]
  },
  {
   "cell_type": "code",
   "execution_count": 56,
   "id": "ce8b8f99",
   "metadata": {},
   "outputs": [
    {
     "data": {
      "text/plain": [
       "<AxesSubplot:>"
      ]
     },
     "execution_count": 56,
     "metadata": {},
     "output_type": "execute_result"
    },
    {
     "data": {
      "image/png": "[encoded data removed]",
      "text/plain": [
       "<Figure size 432x288 with 1 Axes>"
      ]
     },
     "metadata": {
      "needs_background": "light"
     },
     "output_type": "display_data"
    }
   ],
   "source": [
    "final[~final['hours_forever'].isna()].groupby('user')['appid'].count().sort_values().hist(bins=300)"
   ]
  },
  {
   "cell_type": "code",
   "execution_count": 61,
   "id": "d8651f14",
   "metadata": {
    "scrolled": true
   },
   "outputs": [
    {
     "data": {
      "text/html": [
       "<div>\n",
       "<style scoped>\n",
       "    .dataframe tbody tr th:only-of-type {\n",
       "        vertical-align: middle;\n",
       "    }\n",
       "\n",
       "    .dataframe tbody tr th {\n",
       "        vertical-align: top;\n",
       "    }\n",
       "\n",
       "    .dataframe thead th {\n",
       "        text-align: right;\n",
       "    }\n",
       "</style>\n",
       "<table border=\"1\" class=\"dataframe\">\n",
       "  <thead>\n",
       "    <tr style=\"text-align: right;\">\n",
       "      <th></th>\n",
       "      <th>user</th>\n",
       "      <th>appid</th>\n",
       "      <th>hours_forever</th>\n",
       "      <th>name</th>\n",
       "    </tr>\n",
       "  </thead>\n",
       "  <tbody>\n",
       "    <tr>\n",
       "      <th>0</th>\n",
       "      <td>id/flutterdim</td>\n",
       "      <td>268500</td>\n",
       "      <td>1,466</td>\n",
       "      <td>XCOM 2</td>\n",
       "    </tr>\n",
       "    <tr>\n",
       "      <th>1</th>\n",
       "      <td>id/flutterdim</td>\n",
       "      <td>582010</td>\n",
       "      <td>1,434</td>\n",
       "      <td>Monster Hunter: World</td>\n",
       "    </tr>\n",
       "    <tr>\n",
       "      <th>2</th>\n",
       "      <td>id/flutterdim</td>\n",
       "      <td>200510</td>\n",
       "      <td>674</td>\n",
       "      <td>XCOM: Enemy Unknown</td>\n",
       "    </tr>\n",
       "    <tr>\n",
       "      <th>3</th>\n",
       "      <td>id/flutterdim</td>\n",
       "      <td>262060</td>\n",
       "      <td>578</td>\n",
       "      <td>Darkest Dungeon®</td>\n",
       "    </tr>\n",
       "    <tr>\n",
       "      <th>4</th>\n",
       "      <td>id/flutterdim</td>\n",
       "      <td>544750</td>\n",
       "      <td>516</td>\n",
       "      <td>SOULCALIBUR VI</td>\n",
       "    </tr>\n",
       "    <tr>\n",
       "      <th>...</th>\n",
       "      <td>...</td>\n",
       "      <td>...</td>\n",
       "      <td>...</td>\n",
       "      <td>...</td>\n",
       "    </tr>\n",
       "    <tr>\n",
       "      <th>1757806</th>\n",
       "      <td>profiles/76561199234730353</td>\n",
       "      <td>440</td>\n",
       "      <td>16.1</td>\n",
       "      <td>Team Fortress 2</td>\n",
       "    </tr>\n",
       "    <tr>\n",
       "      <th>1757807</th>\n",
       "      <td>profiles/76561199234730353</td>\n",
       "      <td>271590</td>\n",
       "      <td>9.4</td>\n",
       "      <td>Grand Theft Auto V</td>\n",
       "    </tr>\n",
       "    <tr>\n",
       "      <th>1757808</th>\n",
       "      <td>profiles/76561199234730353</td>\n",
       "      <td>438100</td>\n",
       "      <td>1.5</td>\n",
       "      <td>VRChat</td>\n",
       "    </tr>\n",
       "    <tr>\n",
       "      <th>1757809</th>\n",
       "      <td>profiles/76561199234730353</td>\n",
       "      <td>459220</td>\n",
       "      <td>1.0</td>\n",
       "      <td>Halo Wars: Definitive Edition</td>\n",
       "    </tr>\n",
       "    <tr>\n",
       "      <th>1757810</th>\n",
       "      <td>profiles/76561199234730353</td>\n",
       "      <td>570</td>\n",
       "      <td>0.9</td>\n",
       "      <td>Dota 2</td>\n",
       "    </tr>\n",
       "  </tbody>\n",
       "</table>\n",
       "<p>2354316 rows × 4 columns</p>\n",
       "</div>"
      ],
      "text/plain": [
       "                               user   appid hours_forever  \\\n",
       "0                     id/flutterdim  268500         1,466   \n",
       "1                     id/flutterdim  582010         1,434   \n",
       "2                     id/flutterdim  200510           674   \n",
       "3                     id/flutterdim  262060           578   \n",
       "4                     id/flutterdim  544750           516   \n",
       "...                             ...     ...           ...   \n",
       "1757806  profiles/76561199234730353     440          16.1   \n",
       "1757807  profiles/76561199234730353  271590           9.4   \n",
       "1757808  profiles/76561199234730353  438100           1.5   \n",
       "1757809  profiles/76561199234730353  459220           1.0   \n",
       "1757810  profiles/76561199234730353     570           0.9   \n",
       "\n",
       "                                  name  \n",
       "0                               XCOM 2  \n",
       "1                Monster Hunter: World  \n",
       "2                  XCOM: Enemy Unknown  \n",
       "3                     Darkest Dungeon®  \n",
       "4                       SOULCALIBUR VI  \n",
       "...                                ...  \n",
       "1757806                Team Fortress 2  \n",
       "1757807             Grand Theft Auto V  \n",
       "1757808                         VRChat  \n",
       "1757809  Halo Wars: Definitive Edition  \n",
       "1757810                         Dota 2  \n",
       "\n",
       "[2354316 rows x 4 columns]"
      ]
     },
     "execution_count": 61,
     "metadata": {},
     "output_type": "execute_result"
    }
   ],
   "source": [
    "final[~final['hours_forever'].isna()]"
   ]
  },
  {
   "cell_type": "code",
   "execution_count": 71,
   "id": "6eabc452",
   "metadata": {},
   "outputs": [],
   "source": [
    "gs = pd.read_csv('games.csv')['url'].apply(lambda x:int(x.split('/')[4]))"
   ]
  },
  {
   "cell_type": "code",
   "execution_count": 75,
   "id": "b4160430",
   "metadata": {},
   "outputs": [],
   "source": [
    "s1 = set(list(gs))"
   ]
  },
  {
   "cell_type": "code",
   "execution_count": 76,
   "id": "a4a06b88",
   "metadata": {},
   "outputs": [],
   "source": [
    "s2 = set(list(final['appid']))"
   ]
  },
  {
   "cell_type": "code",
   "execution_count": 77,
   "id": "2b130f4c",
   "metadata": {},
   "outputs": [],
   "source": [
    "p = s2.intersection(s1)"
   ]
  },
  {
   "cell_type": "code",
   "execution_count": 79,
   "id": "f30cac32",
   "metadata": {},
   "outputs": [
    {
     "data": {
      "text/plain": [
       "6994"
      ]
     },
     "execution_count": 79,
     "metadata": {},
     "output_type": "execute_result"
    }
   ],
   "source": [
    "len(p)"
   ]
  },
  {
   "cell_type": "code",
   "execution_count": 81,
   "id": "ad0944e2",
   "metadata": {},
   "outputs": [
    {
     "data": {
      "text/plain": [
       "7093"
      ]
     },
     "execution_count": 81,
     "metadata": {},
     "output_type": "execute_result"
    }
   ],
   "source": [
    "len(s1)"
   ]
  },
  {
   "cell_type": "code",
   "execution_count": 82,
   "id": "51184c9c",
   "metadata": {},
   "outputs": [
    {
     "data": {
      "text/plain": [
       "47748"
      ]
     },
     "execution_count": 82,
     "metadata": {},
     "output_type": "execute_result"
    }
   ],
   "source": [
    "len(s2)"
   ]
  },
  {
   "cell_type": "code",
   "execution_count": 83,
   "id": "967107e7",
   "metadata": {},
   "outputs": [],
   "source": [
    "final['appid'] = final['appid'].apply(lambda x:int(x))"
   ]
  },
  {
   "cell_type": "code",
   "execution_count": 90,
   "id": "30a197bc",
   "metadata": {},
   "outputs": [],
   "source": [
    "count = 0\n",
    "for i in final.appid:\n",
    "    if i in s1:\n",
    "        count +=1"
   ]
  },
  {
   "cell_type": "code",
   "execution_count": 97,
   "id": "7fd13a06",
   "metadata": {},
   "outputs": [
    {
     "data": {
      "text/html": [
       "<div>\n",
       "<style scoped>\n",
       "    .dataframe tbody tr th:only-of-type {\n",
       "        vertical-align: middle;\n",
       "    }\n",
       "\n",
       "    .dataframe tbody tr th {\n",
       "        vertical-align: top;\n",
       "    }\n",
       "\n",
       "    .dataframe thead th {\n",
       "        text-align: right;\n",
       "    }\n",
       "</style>\n",
       "<table border=\"1\" class=\"dataframe\">\n",
       "  <thead>\n",
       "    <tr style=\"text-align: right;\">\n",
       "      <th></th>\n",
       "      <th>user</th>\n",
       "      <th>appid</th>\n",
       "      <th>hours_forever</th>\n",
       "      <th>name</th>\n",
       "    </tr>\n",
       "  </thead>\n",
       "  <tbody>\n",
       "    <tr>\n",
       "      <th>0</th>\n",
       "      <td>id/flutterdim</td>\n",
       "      <td>268500</td>\n",
       "      <td>1,466</td>\n",
       "      <td>XCOM 2</td>\n",
       "    </tr>\n",
       "    <tr>\n",
       "      <th>1</th>\n",
       "      <td>id/flutterdim</td>\n",
       "      <td>582010</td>\n",
       "      <td>1,434</td>\n",
       "      <td>Monster Hunter: World</td>\n",
       "    </tr>\n",
       "    <tr>\n",
       "      <th>2</th>\n",
       "      <td>id/flutterdim</td>\n",
       "      <td>200510</td>\n",
       "      <td>674</td>\n",
       "      <td>XCOM: Enemy Unknown</td>\n",
       "    </tr>\n",
       "    <tr>\n",
       "      <th>3</th>\n",
       "      <td>id/flutterdim</td>\n",
       "      <td>262060</td>\n",
       "      <td>578</td>\n",
       "      <td>Darkest Dungeon®</td>\n",
       "    </tr>\n",
       "    <tr>\n",
       "      <th>4</th>\n",
       "      <td>id/flutterdim</td>\n",
       "      <td>544750</td>\n",
       "      <td>516</td>\n",
       "      <td>SOULCALIBUR VI</td>\n",
       "    </tr>\n",
       "    <tr>\n",
       "      <th>...</th>\n",
       "      <td>...</td>\n",
       "      <td>...</td>\n",
       "      <td>...</td>\n",
       "      <td>...</td>\n",
       "    </tr>\n",
       "    <tr>\n",
       "      <th>1757805</th>\n",
       "      <td>profiles/76561199234730353</td>\n",
       "      <td>550</td>\n",
       "      <td>469</td>\n",
       "      <td>Left 4 Dead 2</td>\n",
       "    </tr>\n",
       "    <tr>\n",
       "      <th>1757807</th>\n",
       "      <td>profiles/76561199234730353</td>\n",
       "      <td>271590</td>\n",
       "      <td>9.4</td>\n",
       "      <td>Grand Theft Auto V</td>\n",
       "    </tr>\n",
       "    <tr>\n",
       "      <th>1757808</th>\n",
       "      <td>profiles/76561199234730353</td>\n",
       "      <td>438100</td>\n",
       "      <td>1.5</td>\n",
       "      <td>VRChat</td>\n",
       "    </tr>\n",
       "    <tr>\n",
       "      <th>1757809</th>\n",
       "      <td>profiles/76561199234730353</td>\n",
       "      <td>459220</td>\n",
       "      <td>1.0</td>\n",
       "      <td>Halo Wars: Definitive Edition</td>\n",
       "    </tr>\n",
       "    <tr>\n",
       "      <th>1757810</th>\n",
       "      <td>profiles/76561199234730353</td>\n",
       "      <td>570</td>\n",
       "      <td>0.9</td>\n",
       "      <td>Dota 2</td>\n",
       "    </tr>\n",
       "  </tbody>\n",
       "</table>\n",
       "<p>2074613 rows × 4 columns</p>\n",
       "</div>"
      ],
      "text/plain": [
       "                               user   appid hours_forever  \\\n",
       "0                     id/flutterdim  268500         1,466   \n",
       "1                     id/flutterdim  582010         1,434   \n",
       "2                     id/flutterdim  200510           674   \n",
       "3                     id/flutterdim  262060           578   \n",
       "4                     id/flutterdim  544750           516   \n",
       "...                             ...     ...           ...   \n",
       "1757805  profiles/76561199234730353     550           469   \n",
       "1757807  profiles/76561199234730353  271590           9.4   \n",
       "1757808  profiles/76561199234730353  438100           1.5   \n",
       "1757809  profiles/76561199234730353  459220           1.0   \n",
       "1757810  profiles/76561199234730353     570           0.9   \n",
       "\n",
       "                                  name  \n",
       "0                               XCOM 2  \n",
       "1                Monster Hunter: World  \n",
       "2                  XCOM: Enemy Unknown  \n",
       "3                     Darkest Dungeon®  \n",
       "4                       SOULCALIBUR VI  \n",
       "...                                ...  \n",
       "1757805                  Left 4 Dead 2  \n",
       "1757807             Grand Theft Auto V  \n",
       "1757808                         VRChat  \n",
       "1757809  Halo Wars: Definitive Edition  \n",
       "1757810                         Dota 2  \n",
       "\n",
       "[2074613 rows x 4 columns]"
      ]
     },
     "execution_count": 97,
     "metadata": {},
     "output_type": "execute_result"
    }
   ],
   "source": [
    "final[final.appid.isin(s1)]"
   ]
  },
  {
   "cell_type": "code",
   "execution_count": 91,
   "id": "1862da32",
   "metadata": {},
   "outputs": [
    {
     "data": {
      "text/plain": [
       "2074613"
      ]
     },
     "execution_count": 91,
     "metadata": {},
     "output_type": "execute_result"
    }
   ],
   "source": [
    "count"
   ]
  },
  {
   "cell_type": "code",
   "execution_count": 107,
   "id": "d0f9f61b",
   "metadata": {},
   "outputs": [],
   "source": [
    "final = pd.read_csv('final_user_games.csv').drop(['Unnamed: 0'],axis=1)"
   ]
  },
  {
   "cell_type": "code",
   "execution_count": 109,
   "id": "14770975",
   "metadata": {},
   "outputs": [],
   "source": [
    "final_user_game1 = final[:int(final.shape[0]/2)]\n",
    "final_user_game2 = final[int(final.shape[0]/2)+1:]"
   ]
  },
  {
   "cell_type": "code",
   "execution_count": 112,
   "id": "eb335c10",
   "metadata": {},
   "outputs": [],
   "source": [
    "final_user_game1.to_csv('final_user_game1.csv', index=False)\n",
    "final_user_game2.to_csv('final_user_game2.csv', index=False)"
   ]
  },
  {
   "cell_type": "code",
   "execution_count": 115,
   "id": "de960905",
   "metadata": {},
   "outputs": [
    {
     "data": {
      "text/plain": [
       "4173470"
      ]
     },
     "execution_count": 115,
     "metadata": {},
     "output_type": "execute_result"
    }
   ],
   "source": [
    "final_user_game1.shape[0] + final_user_game2.shape[0]"
   ]
  },
  {
   "cell_type": "code",
   "execution_count": 114,
   "id": "99eb0087",
   "metadata": {},
   "outputs": [
    {
     "data": {
      "text/plain": [
       "2086735"
      ]
     },
     "execution_count": 114,
     "metadata": {},
     "output_type": "execute_result"
    }
   ],
   "source": []
  }
 ],
 "metadata": {
  "kernelspec": {
   "display_name": "Python 3 (ipykernel)",
   "language": "python",
   "name": "python3"
  },
  "language_info": {
   "codemirror_mode": {
    "name": "ipython",
    "version": 3
   },
   "file_extension": ".py",
   "mimetype": "text/x-python",
   "name": "python",
   "nbconvert_exporter": "python",
   "pygments_lexer": "ipython3",
   "version": "3.9.0"
  }
 },
 "nbformat": 4,
 "nbformat_minor": 5
}
