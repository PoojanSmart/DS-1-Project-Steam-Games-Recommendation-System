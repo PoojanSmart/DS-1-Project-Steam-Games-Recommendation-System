{
 "cells": [
  {
   "cell_type": "code",
   "execution_count": 1,
   "id": "09843474",
   "metadata": {},
   "outputs": [],
   "source": [
    "import numpy as np\n",
    "import time\n",
    "import pandas as pd\n",
    "import time\n",
    "import pickle\n",
    "from IPython.display import clear_output\n",
    "import urllib\n",
    "import matplotlib.pyplot as plt\n",
    "import seaborn as sns"
   ]
  },
  {
   "cell_type": "code",
   "execution_count": 60,
   "id": "20609993",
   "metadata": {},
   "outputs": [
    {
     "name": "stderr",
     "output_type": "stream",
     "text": [
      "C:\\Users\\Administrator\\AppData\\Local\\Temp\\ipykernel_9892\\3280684446.py:1: DtypeWarning: Columns (2) have mixed types. Specify dtype option on import or set low_memory=False.\n",
      "  users_game = pd.read_csv('./data/users_game.csv')\n"
     ]
    }
   ],
   "source": [
    "users_game = pd.read_csv('./data/users_game.csv')\n",
    "games = pd.read_csv('./data/games.csv')"
   ]
  },
  {
   "cell_type": "markdown",
   "id": "af063ea4",
   "metadata": {},
   "source": [
    "## Pre-processing"
   ]
  },
  {
   "cell_type": "code",
   "execution_count": 61,
   "id": "c5bbfc86",
   "metadata": {},
   "outputs": [
    {
     "data": {
      "text/plain": [
       "user             object\n",
       "appid             int64\n",
       "hours_forever    object\n",
       "name             object\n",
       "dtype: object"
      ]
     },
     "execution_count": 61,
     "metadata": {},
     "output_type": "execute_result"
    }
   ],
   "source": [
    "users_game.dtypes"
   ]
  },
  {
   "cell_type": "code",
   "execution_count": 62,
   "id": "1b5c5d97",
   "metadata": {},
   "outputs": [
    {
     "data": {
      "text/plain": [
       "array(['1,466', '1,434', '674', ..., 1382.0, 758.0, 1572.0], dtype=object)"
      ]
     },
     "execution_count": 62,
     "metadata": {},
     "output_type": "execute_result"
    }
   ],
   "source": [
    "users_game['hours_forever'].unique()"
   ]
  },
  {
   "cell_type": "code",
   "execution_count": 63,
   "id": "a4e7be16",
   "metadata": {},
   "outputs": [],
   "source": [
    "users_game['hours_forever'] = users_game['hours_forever'].apply(lambda x: float(x.replace(\",\",\"\")) if (type(x)==str) else x)"
   ]
  },
  {
   "cell_type": "code",
   "execution_count": 106,
   "id": "5708dd5b",
   "metadata": {},
   "outputs": [
    {
     "data": {
      "text/plain": [
       "user              object\n",
       "appid              int64\n",
       "hours_forever    float64\n",
       "name              object\n",
       "dtype: object"
      ]
     },
     "execution_count": 106,
     "metadata": {},
     "output_type": "execute_result"
    }
   ],
   "source": [
    "users_game.dtypes"
   ]
  },
  {
   "cell_type": "code",
   "execution_count": 64,
   "id": "b6876017",
   "metadata": {},
   "outputs": [
    {
     "data": {
      "text/plain": [
       "url                 object\n",
       "title               object\n",
       "genre               object\n",
       "Release Date        object\n",
       "tags                object\n",
       "total_reviews        int64\n",
       "positive_reviews     int64\n",
       "negative_reviews     int64\n",
       "price               object\n",
       "dtype: object"
      ]
     },
     "execution_count": 64,
     "metadata": {},
     "output_type": "execute_result"
    }
   ],
   "source": [
    "games.dtypes"
   ]
  },
  {
   "cell_type": "code",
   "execution_count": 65,
   "id": "ab4d2648",
   "metadata": {},
   "outputs": [],
   "source": [
    "games['appid'] = games['url'].apply(lambda x: int(x.split(\"/\")[4]))\n",
    "games = games.drop([\"url\"], axis=1)"
   ]
  },
  {
   "cell_type": "code",
   "execution_count": 66,
   "id": "739918ca",
   "metadata": {},
   "outputs": [],
   "source": [
    "games[\"release_date\"] = pd.to_datetime(games[\"Release Date\"], infer_datetime_format= True)\n",
    "games = games.drop([\"Release Date\"], axis=1)"
   ]
  },
  {
   "cell_type": "code",
   "execution_count": 71,
   "id": "7963c12c",
   "metadata": {},
   "outputs": [],
   "source": [
    "games.price = games.price.apply(lambda x: int(x) if (type(x)==str and x != 'Free' and x != np.nan) else x)\n",
    "games['price'] = games['price'].replace({'Free':0})"
   ]
  },
  {
   "cell_type": "code",
   "execution_count": 76,
   "id": "c91c1d8c",
   "metadata": {},
   "outputs": [
    {
     "data": {
      "text/plain": [
       "title                       object\n",
       "genre                       object\n",
       "tags                        object\n",
       "total_reviews                int64\n",
       "positive_reviews             int64\n",
       "negative_reviews             int64\n",
       "price                      float64\n",
       "appid                        int64\n",
       "release_date        datetime64[ns]\n",
       "dtype: object"
      ]
     },
     "execution_count": 76,
     "metadata": {},
     "output_type": "execute_result"
    }
   ],
   "source": [
    "games.dtypes"
   ]
  },
  {
   "cell_type": "code",
   "execution_count": 82,
   "id": "bcc5b02f",
   "metadata": {},
   "outputs": [],
   "source": [
    "tags_dummies = games.tags.apply(lambda x: \",\".join([i.strip() for i in x[1:-1].replace('\\'',\"\").replace(\"\\\"\",\"\").split(\",\")])).str.get_dummies(\",\")"
   ]
  },
  {
   "cell_type": "code",
   "execution_count": 84,
   "id": "a1588e3a",
   "metadata": {},
   "outputs": [
    {
     "data": {
      "text/plain": [
       "((7093, 426), (7093, 9))"
      ]
     },
     "execution_count": 84,
     "metadata": {},
     "output_type": "execute_result"
    }
   ],
   "source": [
    "tags_dummies.shape, games.shape"
   ]
  },
  {
   "cell_type": "code",
   "execution_count": 87,
   "id": "709ea1a8",
   "metadata": {},
   "outputs": [],
   "source": [
    "games = pd.concat([games, tags_dummies], axis=1)\n",
    "games = games.drop(['tags'], axis=1)"
   ]
  },
  {
   "cell_type": "code",
   "execution_count": 93,
   "id": "3d07a813",
   "metadata": {},
   "outputs": [],
   "source": [
    "games = games.drop(['genre'], axis=1)"
   ]
  },
  {
   "cell_type": "code",
   "execution_count": 138,
   "id": "8134d2db",
   "metadata": {},
   "outputs": [
    {
     "name": "stdout",
     "output_type": "stream",
     "text": [
      "Games dataframe:\n",
      "price has  432  missing values\n",
      "release_date has  10  missing values\n"
     ]
    }
   ],
   "source": [
    "print(\"Games dataframe:\")\n",
    "miss = price [games.isnull().any()[games.isnull().any()].index].isnull().astype('int').sum()\n",
    "for i in miss.index:\n",
    "    print(i,\"has \",miss[i],\" missing values\")"
   ]
  },
  {
   "cell_type": "code",
   "execution_count": 139,
   "id": "46d36435",
   "metadata": {},
   "outputs": [
    {
     "name": "stdout",
     "output_type": "stream",
     "text": [
      "Users-Games dataframe:\n",
      "hours_forever has  1819347  missing values\n",
      "name has  889  missing values\n"
     ]
    }
   ],
   "source": [
    "print(\"Users-Games dataframe:\")\n",
    "miss = users_game[users_game.isnull().any()[users_game.isnull().any()].index].isnull().astype('int').sum()\n",
    "for i in miss.index:\n",
    "    print(i,\"has \",miss[i],\" missing values\")"
   ]
  },
  {
   "cell_type": "code",
   "execution_count": 140,
   "id": "ec94565e",
   "metadata": {},
   "outputs": [],
   "source": [
    "users_game = users_game.drop(['name'], axis=1)"
   ]
  },
  {
   "cell_type": "code",
   "execution_count": 156,
   "id": "447708a2",
   "metadata": {},
   "outputs": [
    {
     "data": {
      "text/plain": [
       "[<matplotlib.lines.Line2D at 0x18cacc43ac0>]"
      ]
     },
     "execution_count": 156,
     "metadata": {},
     "output_type": "execute_result"
    },
    {
     "data": {
      "image/png": "[encoded data removed]",
      "text/plain": [
       "<Figure size 432x288 with 1 Axes>"
      ]
     },
     "metadata": {
      "needs_background": "light"
     },
     "output_type": "display_data"
    }
   ],
   "source": [
    "user = users_game.user.unique()[20]\n",
    "plt.plot(users_game[users_game['user']==user]['hours_forever'])"
   ]
  },
  {
   "cell_type": "markdown",
   "id": "f721222a",
   "metadata": {},
   "source": [
    "## Questions\n",
    "#1\n",
    "#2\n",
    "#3\n",
    "#4\n",
    "#5"
   ]
  }
 ],
 "metadata": {
  "kernelspec": {
   "display_name": "Python 3 (ipykernel)",
   "language": "python",
   "name": "python3"
  },
  "language_info": {
   "codemirror_mode": {
    "name": "ipython",
    "version": 3
   },
   "file_extension": ".py",
   "mimetype": "text/x-python",
   "name": "python",
   "nbconvert_exporter": "python",
   "pygments_lexer": "ipython3",
   "version": "3.9.0"
  }
 },
 "nbformat": 4,
 "nbformat_minor": 5
}
